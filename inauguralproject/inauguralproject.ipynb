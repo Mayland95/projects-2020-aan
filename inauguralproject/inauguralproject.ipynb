{
 "cells": [
  {
   "cell_type": "markdown",
   "metadata": {},
   "source": [
    "# Inaugural project"
   ]
  },
  {
   "cell_type": "markdown",
   "metadata": {},
   "source": [
    "# Question 1"
   ]
  },
  {
   "cell_type": "markdown",
   "metadata": {},
   "source": [
    "In this project we aim to find the optimal labor supply and consumption.\n",
    "\n",
    "The following utility function and budget constraint are given.\n",
    "\n",
    "In the utility function we are using that $c^* = x$ in optimum, such that we can write the budget constraint instead of 'c'."
   ]
  },
  {
   "cell_type": "code",
   "execution_count": 169,
   "metadata": {},
   "outputs": [],
   "source": [
    "#Importing relevant packages\n",
    "from scipy import optimize\n",
    "import numpy as np\n",
    "import matplotlib.pyplot as plt\n",
    "import math"
   ]
  },
  {
   "cell_type": "code",
   "execution_count": 170,
   "metadata": {},
   "outputs": [],
   "source": [
    "# parameter values as given\n",
    "m = 1   # cash-on-hand\n",
    "v = 10 # scalar for disutility of labor\n",
    "eps = 0.3 # Frisch elasticity\n",
    "t0 = 0.4 # standard labor income tax\n",
    "t1 = 0.1 # top bracket labor income tax\n",
    "k = 0.4 # cut-off for top labor income tax"
   ]
  },
  {
   "cell_type": "code",
   "execution_count": 171,
   "metadata": {},
   "outputs": [],
   "source": [
    "# Utility function\n",
    "def u(l, w, m = 1, v = 10, eps = .3, t0 = .4, t1 = .1, k = .4):\n",
    "    \"\"\"\n",
    "    The utility function: Utility increases monotonocally with larger consumption. \n",
    "    The utility decreases in labor, however the disutility of labor depends on the labor elasticity.\n",
    "    \n",
    "    Args: c: consumption, l: labor, eps: Frisch elasticity of labor supply, v: scales the disutility of labor.\n",
    "    \n",
    "    Returns: Float\n",
    "    \"\"\"\n",
    "    return np.log(tr(w, l)) - v * (l ** (1 + 1/eps))/(1 + 1/eps)\n",
    "\n",
    "# Constraint function\n",
    "def tr(l, w, m = 1, v = 10, eps = .3, t0 = .4, t1 = .1, k = .4):\n",
    "    \"\"\"\n",
    "    Constraint function: In maximum the consumer will use all ressources on consumption, therefore c = tr(w,l).\n",
    "    \n",
    "    Args: m: cash-on-hand, w: wage rate, t0: standard labor income tax, \n",
    "    t1: top bracket labor income tax, k: cut-off for the top labor income bracket.\n",
    "    \n",
    "    Returns: Float\n",
    "    \"\"\"\n",
    "    return m + w * l - (t0 * w*l + t1 * max([w * l - k, 0]))"
   ]
  },
  {
   "cell_type": "markdown",
   "metadata": {},
   "source": [
    "To calculate the optimal labor supply we use the optimize.minimze function from the scipy package. As we're looking for a optimum, we insert a - before the minimizer."
   ]
  },
  {
   "cell_type": "code",
   "execution_count": 172,
   "metadata": {},
   "outputs": [],
   "source": [
    "# Bounds for the variable l\n",
    "bounds = [(0, 1)]\n",
    "\n",
    "# Call optimizer\n",
    "initial_guess = 1  # some guess, should be feasible\n",
    "res = optimize.minimize(lambda l: -u(l, w=1), \n",
    "initial_guess,method='SLSQP', bounds=bounds)"
   ]
  },
  {
   "cell_type": "markdown",
   "metadata": {},
   "source": [
    "The solution yields the following labor supply, consumption and utility."
   ]
  },
  {
   "cell_type": "code",
   "execution_count": 173,
   "metadata": {},
   "outputs": [
    {
     "name": "stdout",
     "output_type": "stream",
     "text": [
      "In optimum we have the following:\n",
      "Labour is 0.40\n",
      "Consumption is 1.24\n",
      "Utility is 0.17\n"
     ]
    }
   ],
   "source": [
    "# Print results\n",
    "print('In optimum we have the following:')\n",
    "print('Labour is ' + f'{float(res.x):.2f}')\n",
    "print(\"Consumption is \" + f'{float(tr(l=res.x, w=1)):.2f}')\n",
    "print(\"Utility is \" + f'{-1*res.fun:.2f}')"
   ]
  },
  {
   "cell_type": "markdown",
   "metadata": {},
   "source": [
    "# Question 2"
   ]
  },
  {
   "cell_type": "markdown",
   "metadata": {},
   "source": [
    "Plotting labor and consumption as function of wages in range .5 to 1.5"
   ]
  },
  {
   "cell_type": "code",
   "execution_count": 174,
   "metadata": {},
   "outputs": [
    {
     "data": {
      "text/plain": [
       "<matplotlib.legend.Legend at 0x227da86bf88>"
      ]
     },
     "execution_count": 174,
     "metadata": {},
     "output_type": "execute_result"
    },
    {
     "data": {
      "image/png": "[encoded data removed]",
      "text/plain": [
       "<Figure size 432x288 with 1 Axes>"
      ]
     },
     "metadata": {
      "needs_background": "light"
     },
     "output_type": "display_data"
    }
   ],
   "source": [
    "#set sample size\n",
    "N = 10000\n",
    "#plot of l(w) and c(w)\n",
    "\n",
    "#Initiating figure\n",
    "fig = plt.figure()\n",
    "ax = fig.add_subplot(1,1,1)\n",
    "\n",
    "#Define variables for wage (0.5, 1.5)\n",
    "w_vec = np.linspace(0.5,1.5,N)\n",
    "lab = np.empty(N)\n",
    "con = np.empty(N)\n",
    "\n",
    "def tr(l, w, m = 1, v = 10, eps = .3, t0 = .4, t1 = .1, k = .4):\n",
    "    x = m + w * l - (t0 * w*l + t1 * max([w * l - k, 0]))\n",
    "    return x\n",
    "    \n",
    "for i,w in enumerate(w_vec):\n",
    "    res = optimize.minimize(lambda l: -u(l, w), initial_guess,method='SLSQP', bounds=bounds)\n",
    "    lab[i] = res.x\n",
    "    con[i] = tr(lab[i], w)\n",
    "    \n",
    "#Plotting consumptio and labor against wages\n",
    "ax.plot(w_vec, lab, ls = '--', lw = 2, color = 'black', label = 'labour')\n",
    "ax.plot(w_vec, con, ls = '-', lw = 2, color = 'blue', label = 'consumption')\n",
    "\n",
    "#Formatting the visual presentation\n",
    "ax.set_xlabel('wages')\n",
    "ax.set_ylabel('labour & consumption')\n",
    "ax.set_title('Labour and consumption plotted against wages')\n",
    "ax.grid(True)\n",
    "ax.legend(loc = 'upper left')"
   ]
  },
  {
   "cell_type": "markdown",
   "metadata": {},
   "source": [
    "# Question 3"
   ]
  },
  {
   "cell_type": "markdown",
   "metadata": {},
   "source": []
  },
  {
   "cell_type": "code",
   "execution_count": 175,
   "metadata": {},
   "outputs": [
    {
     "name": "stdout",
     "output_type": "stream",
     "text": [
      "The total taxrevenue is 1739.53\n"
     ]
    }
   ],
   "source": [
    "def totaltax(t0, t1, k, w, l=res.x):\n",
    "    \"\"\" \n",
    "    Calculating the total taxrevenue\n",
    "    \n",
    "    Args:\n",
    "    \n",
    "    tau_0 (float): standard labor income tax\n",
    "    wage_range (array): wage rate for each individual citizen\n",
    "    optimal labour (array): labour supply for each individual\n",
    "    tau_1 (float): top bracket labor income tax\n",
    "    k (float): cut-off for top labor income tax\n",
    "        \n",
    "    Returns:\n",
    "    \n",
    "        totaltax (float): Totaltax revenue\n",
    "    \n",
    "    \"\"\"\n",
    "    w = np.random.uniform(.5, 1.5, 10000)\n",
    "    total_tax_revenue = np.sum(t0 * w * (res.x) + t1*np.fmax (w* (res.x) -k,0))\n",
    "    return total_tax_revenue\n",
    "\n",
    "# print of results    \n",
    "print(f'The total taxrevenue is {totaltax(t0, t1, k, w, (res.x)):.2f}')\n"
   ]
  },
  {
   "cell_type": "markdown",
   "metadata": {},
   "source": [
    "# Question 4"
   ]
  },
  {
   "cell_type": "markdown",
   "metadata": {},
   "source": [
    "By changing the value of $\\epsilon=.1$, we get that the new tax revenue is"
   ]
  },
  {
   "cell_type": "code",
   "execution_count": 176,
   "metadata": {},
   "outputs": [],
   "source": [
    "# Initial value of the new T (T2)\n",
    "T2 = 0\n",
    "\n",
    "# Appending T from each tax payer to the total, using a for loop\n",
    "for w in range(N):\n",
    "    # Add the value of eps = .1 as a local value\n",
    "    w = np.random.uniform(.5, 1.5) # Random nr. from uniform dist.\n",
    "    res = optimize.minimize(lambda l: -u(l,w, eps=.1), initial_guess, \n",
    "    method='SLSQP', bounds=bounds) # Optimization for 'i'\n",
    "    T2 += (t0 * w * (res.x) + t1 * max([w * (res.x) - k, 0])) # tax-revenue from tax payer 'i'"
   ]
  },
  {
   "cell_type": "markdown",
   "metadata": {},
   "source": [
    "Yielding that"
   ]
  },
  {
   "cell_type": "code",
   "execution_count": 177,
   "metadata": {},
   "outputs": [
    {
     "name": "stdout",
     "output_type": "stream",
     "text": [
      "New tax revenue is 3185.32 for epsilon = .1\n"
     ]
    }
   ],
   "source": [
    "# Print result\n",
    "print('New tax revenue is ' + f'{float(T2):.2f}' + ' for epsilon = .1')"
   ]
  },
  {
   "cell_type": "markdown",
   "metadata": {},
   "source": [
    "# Question 5 "
   ]
  },
  {
   "cell_type": "markdown",
   "metadata": {},
   "source": [
    "Finding the $$\\tau_0, \\tau_1 \\land \\kappa$$ which maximizes the tax revenue"
   ]
  },
  {
   "cell_type": "code",
   "execution_count": 178,
   "metadata": {},
   "outputs": [
    {
     "name": "stdout",
     "output_type": "stream",
     "text": [
      "Optimal standard labor income tax: 99.9%\n",
      "Optimal top bracket labor income tax: 66.8%\n",
      "Optimal cut-off for the top labour income: 0.002\n",
      "Total tax revenue: 10849.5 DKK\n"
     ]
    }
   ],
   "source": [
    "def tax_revenue(vec):\n",
    "    \n",
    "    \"\"\" Calculating the total tax revenue as a function of the models parameters.\n",
    "    \n",
    "    Vec is defined as:\n",
    "\n",
    "        tau_0 (foat: standard labor income tax\n",
    "        tau_1 (float): top bracket labor income tax\n",
    "        k (float): cut-off for top labor income tax\n",
    "        w (float): wage rate\n",
    "        l (float): labour supply\n",
    "        \n",
    "    Returns:\n",
    "    \n",
    "        rev (float): Totaltax revenue\n",
    "    \n",
    "    \"\"\"\n",
    "\n",
    "    tau_0 = vec[0]\n",
    "    tau_1 = vec[1]\n",
    "    k = vec[2]\n",
    "    w = vec[3]\n",
    "    l = vec[4]\n",
    "    rev = np.sum(tau_0 * w * l + tau_1*np.max(w*l-k,0))\n",
    "    return  rev\n",
    "\n",
    "def new_budget_constraint(vec):\n",
    "      \n",
    "    \"\"\" Calculating budget constraint as a function of the parameters.\n",
    "    \n",
    "    The determined vector values are:\n",
    "\n",
    "        tau_0 (foat: standard labor income tax\n",
    "        tau_1 (float): top bracket labor income tax\n",
    "        k (float): cut-off for top labor income tax\n",
    "\n",
    "        \n",
    "    Returns:\n",
    "    \n",
    "        new_bc (float): New budgetconstraint\n",
    "    \n",
    "    \"\"\"\n",
    "\n",
    "    tau_0 = vec[0]\n",
    "    tau_1 = vec[1]\n",
    "    k = vec[2]\n",
    "    new_bc = m + vec[3] * vec[4] - (vec[0]*vec[3]*vec[4]+vec[1]*(np.fmax(vec[3]*vec[4]-vec[2] , 0 )))\n",
    "    return new_bc\n",
    "    \n",
    "def tax_optimal(vec):\n",
    "      \n",
    "    \"\"\" Calculating negative tax revenue as a function of the parameters which is possible to minimize. \n",
    "    \n",
    "    The determined vector values are:\n",
    "\n",
    "        w (float): wage rate\n",
    "        l (float): labour supply\n",
    "        \n",
    "    Returns:\n",
    "    \n",
    "        tax_revenue(vec): Negative total tax revenue \n",
    "    \n",
    "    \"\"\"\n",
    "\n",
    "    w = vec[3]\n",
    "    l = vec[4]\n",
    "    con = new_budget_constraint(vec)\n",
    "    return -tax_revenue(vec)\n",
    "\n",
    "# total tax optimizer\n",
    "initial_guess = [0.4 , 0.1 , 0.4 , 1 , 0.4]\n",
    "bounds = ((0.00001,0.99999) , (0.00001,0.99999) , (0.00001,1.5) , (0.00001,1.5) , (0.00001,0.99999))\n",
    "constraint = ({\"type\":\"ineq\",\"fun\":new_budget_constraint})\n",
    " \n",
    "result = optimize.minimize(tax_optimal , initial_guess , bounds=bounds , constraints=constraint , method=\"SLSQP\")\n",
    "\n",
    "# elements of result\n",
    "tau_0_opt = result.x[0]\n",
    "tau_1_opt = result.x[1]\n",
    "k_opt = result.x[2]\n",
    "w_opt = result.x[3]\n",
    "l_opt = result.x[4]\n",
    "tax_opt = np.sum(totaltax(w_opt , l_opt , tau_0_opt , tau_1_opt , k_opt))\n",
    "\n",
    "# print of results\n",
    "\n",
    "print(f'Optimal standard labor income tax: {tau_0_opt*100:.1f}%')\n",
    "print(f'Optimal top bracket labor income tax: {tau_1_opt*100:.1f}%')\n",
    "print(f'Optimal cut-off for the top labour income: {k_opt:.3f}')\n",
    "print(f'Total tax revenue: {tax_opt:.1f} DKK')"
   ]
  },
  {
   "cell_type": "markdown",
   "metadata": {},
   "source": [
    "# Conclusion"
   ]
  },
  {
   "cell_type": "markdown",
   "metadata": {},
   "source": [
    "We begin by finding the optimal level of labor supply, consumption and utility. This is done with a scipy optimizer, which numerically solves the maximation problem with respect to its constraints. Labor and consumption are then plotted dependent on wage level. In question 3, 4 and 5 we find optimal tax level with different parameter values."
   ]
  }
 ],
 "metadata": {
  "kernelspec": {
   "display_name": "Python 3",
   "language": "python",
   "name": "python3"
  },
  "language_info": {
   "codemirror_mode": {
    "name": "ipython",
    "version": 3
   },
   "file_extension": ".py",
   "mimetype": "text/x-python",
   "name": "python",
   "nbconvert_exporter": "python",
   "pygments_lexer": "ipython3",
   "version": "3.7.4"
  }
 },
 "nbformat": 4,
 "nbformat_minor": 4
}
