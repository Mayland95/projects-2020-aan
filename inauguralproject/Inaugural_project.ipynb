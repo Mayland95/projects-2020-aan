{
 "cells": [
  {
   "cell_type": "markdown",
   "metadata": {},
   "source": [
    "# Inaugural project"
   ]
  },
  {
   "cell_type": "markdown",
   "metadata": {},
   "source": [
    "# Question 1"
   ]
  },
  {
   "cell_type": "markdown",
   "metadata": {},
   "source": [
    "In this project we aim to find the optimal labor supply and consumption.\n",
    "\n",
    "The following utility function and budget constraint are given.\n",
    "\n",
    "In the utility function we are using that $c^* = x$ in optimum, such that we can write the budget constraint instead of 'c'."
   ]
  },
  {
   "cell_type": "code",
   "execution_count": 44,
   "metadata": {},
   "outputs": [],
   "source": [
    "#Importing relevant packages\n",
    "from scipy import optimize\n",
    "import numpy as np\n",
    "import matplotlib.pyplot as plt\n",
    "import math"
   ]
  },
  {
   "cell_type": "code",
   "execution_count": 45,
   "metadata": {},
   "outputs": [],
   "source": [
    "# Utility function\n",
    "def u(l, w, m = 1, v = 10, eps = .3, t0 = .4, t1 = .1, k = .4):\n",
    "    \"\"\"\n",
    "    The utility function: Utility increases monotonocally with larger consumption. \n",
    "    The utility decreases in labor, however the disutility of labor depends on the labor elasticity.\n",
    "    Args: c: consumption, l: labor, eps: Frisch elasticity of labor supply, v: scales the disutility of labor.\n",
    "    Returns: Float\n",
    "    \"\"\"\n",
    "    return np.log(tr(w, l)) - v * (l ** (1 + 1/eps))/(1 + 1/eps)\n",
    "\n",
    "# Constraint function\n",
    "def tr(l, w, m = 1, v = 10, eps = .3, t0 = .4, t1 = .1, k = .4):\n",
    "    \"\"\"\n",
    "    Constraint function: In maximum the consumer will use all ressources on consumption, therefore c = tr(w,l).\n",
    "    Args: m: cash-on-hand, w: wage rate, t0: standard labor income tax, \n",
    "    t1: top bracket labor income tax, k: cut-off for the top labor income bracket.\n",
    "    Returns: Float\n",
    "    \"\"\"\n",
    "    return m + w * l - (t0 * w*l + t1 * max([w * l - k, 0]))"
   ]
  },
  {
   "cell_type": "markdown",
   "metadata": {},
   "source": [
    "To calculate the optimal labor supply we use the optimize.minimze function from the scipy package."
   ]
  },
  {
   "cell_type": "code",
   "execution_count": 46,
   "metadata": {},
   "outputs": [],
   "source": [
    "# Bounds for the variable l\n",
    "bounds = [(0, 1)]\n",
    "\n",
    "# Call optimizer\n",
    "initial_guess = 1  # some guess, should be feasible\n",
    "res = optimize.minimize(lambda l: -u(l, w=1), initial_guess,method='SLSQP', bounds=bounds)"
   ]
  },
  {
   "cell_type": "markdown",
   "metadata": {},
   "source": [
    "The solution yields the following labor supply, consumption and utility."
   ]
  },
  {
   "cell_type": "code",
   "execution_count": 55,
   "metadata": {},
   "outputs": [
    {
     "name": "stdout",
     "output_type": "stream",
     "text": [
      "In optimum we have the following:\n",
      "Labour is 0.41\n",
      "Consumption is 1.25\n",
      "Utility is 0.23\n"
     ]
    }
   ],
   "source": [
    "# Print results\n",
    "print('In optimum we have the following:')\n",
    "print('Labour is ' + f'{float(res.x):.2f}')\n",
    "print(\"Consumption is \" + f'{float(tr(l=res.x, w=1)):.2f}')\n",
    "print(\"Utility is \" + f'{-1*res.fun:.2f}')"
   ]
  },
  {
   "cell_type": "markdown",
   "metadata": {},
   "source": [
    "# Question 2"
   ]
  },
  {
   "cell_type": "markdown",
   "metadata": {},
   "source": [
    "Plotting labor and consumption as function of wages in range .5 to 1.5"
   ]
  },
  {
   "cell_type": "code",
   "execution_count": 48,
   "metadata": {},
   "outputs": [
    {
     "data": {
      "text/plain": [
       "<matplotlib.legend.Legend at 0x227d9367488>"
      ]
     },
     "execution_count": 48,
     "metadata": {},
     "output_type": "execute_result"
    },
    {
     "data": {
      "image/png": "[encoded data removed]",
      "text/plain": [
       "<Figure size 432x288 with 1 Axes>"
      ]
     },
     "metadata": {
      "needs_background": "light"
     },
     "output_type": "display_data"
    }
   ],
   "source": [
    "#plot of l(w) and c(w)\n",
    "\n",
    "#Initiating figure\n",
    "fig = plt.figure()\n",
    "ax = fig.add_subplot(1,1,1)\n",
    "\n",
    "#Define variables for wage (0.5, 1.5)\n",
    "w_vec = np.linspace(0.5,1.5,1000)\n",
    "lab = np.empty(1000)\n",
    "con = np.empty(1000)\n",
    "\n",
    "def tr(l, w, m = 1, v = 10, eps = .3, t0 = .4, t1 = .1, k = .4):\n",
    "    x = m + w * l - (t0 * w*l + t1 * max([w * l - k, 0]))\n",
    "    return x\n",
    "    \n",
    "for i,w in enumerate(w_vec):\n",
    "    res = optimize.minimize(lambda l: -u(l, w), initial_guess,method='SLSQP', bounds=bounds)\n",
    "    lab[i] = res.x\n",
    "    con[i] = tr(lab[i], w)\n",
    "    \n",
    "#Plotting consumptio and labor against wages\n",
    "ax.plot(w_vec, lab, ls = '--', lw = 2, color = 'black', label = 'labour')\n",
    "ax.plot(w_vec, con, ls = '-', lw = 2, color = 'blue', label = 'consumption')\n",
    "\n",
    "#Formatting the visual presentation\n",
    "ax.set_xlabel('wages')\n",
    "ax.set_ylabel('labour & consumption')\n",
    "ax.set_title('Labour and consumption plotted against wages')\n",
    "ax.grid(True)\n",
    "ax.legend(loc = 'upper left')"
   ]
  },
  {
   "cell_type": "markdown",
   "metadata": {},
   "source": [
    "# Question 3"
   ]
  },
  {
   "cell_type": "markdown",
   "metadata": {},
   "source": [
    "To calculate the total tax revenue, we are looping the values of $\\omega_i$ pulled from a random uniform distribution $N = 10.000$ times.\n",
    "\n",
    "In the for-loop we are optimizing $l_i^*$ and appending the tax revenue for 'i' to the total tax revenue."
   ]
  },
  {
   "cell_type": "code",
   "execution_count": 49,
   "metadata": {},
   "outputs": [],
   "source": [
    "# Set sample size\n",
    "N = 10000\n",
    "\n",
    "# Initial value of T\n",
    "T = 0\n",
    "\n",
    "# Appending T from each tax payer to the total, using a for loop\n",
    "for w in range(N):\n",
    "    w = np.random.uniform(.5, 1.5) # Random nr. from uniform dist.\n",
    "    res = optimize.minimize(lambda l: -u(l,w), initial_guess,\n",
    "    method='SLSQP', bounds=bounds) # Optimization for 'i'\n",
    "    T += (t0 * w * (res.x) + t1 * max([w * (res.x) - k, 0])) # tax-revenue from tax payer 'i'\n"
   ]
  },
  {
   "cell_type": "markdown",
   "metadata": {},
   "source": [
    "Yielding that"
   ]
  },
  {
   "cell_type": "code",
   "execution_count": 54,
   "metadata": {},
   "outputs": [
    {
     "name": "stdout",
     "output_type": "stream",
     "text": [
      "Tax revenue is 1626.32\n"
     ]
    }
   ],
   "source": [
    "# Print result\n",
    "print('Tax revenue is ' + f'{float(T):.2f}')"
   ]
  },
  {
   "cell_type": "markdown",
   "metadata": {},
   "source": [
    "# Question 4"
   ]
  },
  {
   "cell_type": "markdown",
   "metadata": {},
   "source": [
    "By changing the value of $\\epsilon=.1$, we get that the new tax revenue is"
   ]
  },
  {
   "cell_type": "code",
   "execution_count": 41,
   "metadata": {},
   "outputs": [],
   "source": [
    "# Initial value of the new T (T2)\n",
    "T2 = 0\n",
    "\n",
    "# Appending T from each tax payer to the total, using a for loop\n",
    "for w in range(N):\n",
    "    # Add the value of eps = .1 as a local value\n",
    "    w = np.random.uniform(.5, 1.5) # Random nr. from uniform dist.\n",
    "    res = optimize.minimize(lambda l: -u(l,w, eps=.1), initial_guess, \n",
    "    method='SLSQP', bounds=bounds) # Optimization for 'i'\n",
    "    T2 += (t0 * w * (res.x) + t1 * max([w * (res.x) - k, 0])) # tax-revenue from tax payer 'i'"
   ]
  },
  {
   "cell_type": "markdown",
   "metadata": {},
   "source": [
    "Yielding that"
   ]
  },
  {
   "cell_type": "code",
   "execution_count": 53,
   "metadata": {},
   "outputs": [
    {
     "name": "stdout",
     "output_type": "stream",
     "text": [
      "New tax revenue is 3196.03\n"
     ]
    }
   ],
   "source": [
    "# Print result\n",
    "print('New tax revenue is ' + f'{float(T2):.2f}')"
   ]
  },
  {
   "cell_type": "markdown",
   "metadata": {},
   "source": [
    "# Question 5 "
   ]
  },
  {
   "cell_type": "markdown",
   "metadata": {},
   "source": [
    "Finding the $$\\tau_0, \\tau_1 \\land \\kappa$$ which maximizes the tax revenue"
   ]
  },
  {
   "cell_type": "code",
   "execution_count": null,
   "metadata": {},
   "outputs": [],
   "source": []
  },
  {
   "cell_type": "markdown",
   "metadata": {},
   "source": [
    "# Conclusion"
   ]
  },
  {
   "cell_type": "markdown",
   "metadata": {},
   "source": [
    "We find ..."
   ]
  }
 ],
 "metadata": {
  "kernelspec": {
   "display_name": "Python 3",
   "language": "python",
   "name": "python3"
  },
  "language_info": {
   "codemirror_mode": {
    "name": "ipython",
    "version": 3
   },
   "file_extension": ".py",
   "mimetype": "text/x-python",
   "name": "python",
   "nbconvert_exporter": "python",
   "pygments_lexer": "ipython3",
   "version": "3.7.4"
  }
 },
 "nbformat": 4,
 "nbformat_minor": 4
}
