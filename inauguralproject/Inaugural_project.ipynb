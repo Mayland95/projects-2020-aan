{
 "cells": [
  {
   "cell_type": "markdown",
   "metadata": {},
   "source": [
    "**Inaugural project**"
   ]
  },
  {
   "cell_type": "markdown",
   "metadata": {},
   "source": [
    "1) Utility function\n",
    "- Importing the relevant packages\n",
    "- Implementing the utility function in Python:"
   ]
  },
  {
   "cell_type": "code",
   "execution_count": 37,
   "metadata": {},
   "outputs": [],
   "source": [
    "from scipy import optimize\n",
    "import numpy as np\n",
    "import matplotlib as plt\n",
    "import math"
   ]
  },
  {
   "cell_type": "code",
   "execution_count": 61,
   "metadata": {},
   "outputs": [],
   "source": [
    "#\n",
    "rang = np.array([0, .1, .2, .3, .4, .5, .6, .7, .8, .9, 1])\n",
    " # Params: \n",
    "m = 1\n",
    "v = 10\n",
    "eps = .3\n",
    "t0 = .4\n",
    "t1 = .1\n",
    "k = .4\n",
    "\n",
    "# Function\n",
    "def u(l, w=1):\n",
    "    \"\"\"The utility function: Utility increases monotonocally with larger consumption. The utility decreases in labor, however the disutility of labor depends on the labor elasticity.\n",
    "    Args: c: consumption, l: labor, eps: Frisch elasticity of labor supply.\n",
    "    Returns: Float\"\"\"\n",
    "    return math.log(tr(w,l)) - v * (l ** (1 + 1/eps))/(1 + 1/eps)\n",
    "\n",
    "# Constraint\n",
    "# w = 1\n",
    "# c = x\n",
    "# arg = [w * l - k, 0]\n",
    "def tr(w, l):\n",
    "    return m + w * l - (t0 * w*l + t1 * max([w * l - k, 0]))"
   ]
  },
  {
   "cell_type": "code",
   "execution_count": 65,
   "metadata": {},
   "outputs": [
    {
     "name": "stdout",
     "output_type": "stream",
     "text": [
      "Optimization terminated successfully.\n",
      "Labour = [0.39989183]\n",
      "Utility = 0.17158177405087482\n",
      "Consumption= [1.2399351]\n"
     ]
    }
   ],
   "source": [
    "# Optimizer\n",
    "# a. contraint function (negative if violated)\n",
    "# constraints = ({'type': 'ineq', 'fun': lambda l:  x - tr(w, l)})\n",
    "bounds = [(0,1)]\n",
    "                \n",
    "# eneste bound er c=x\n",
    "                \n",
    "# b. call optimizer\n",
    "initial_guess = 1 # some guess, should be feasible\n",
    "res = optimize.minimize(\n",
    "    lambda l: -u(l),initial_guess,\n",
    "    method='SLSQP',bounds=bounds)\n",
    "\n",
    "print(res.message) # check that the solver has terminated correctly\n",
    "\n",
    "# c. print result\n",
    "print(\"Labour = \" + str(res.x))\n",
    "print(\"Utility = \" + str(-1*res.fun))\n",
    "print(\"Consumption= \" + str(tr(w=1,l=res.x)))"
   ]
  },
  {
   "cell_type": "markdown",
   "metadata": {},
   "source": [
    "**2. Plot of l* and c* as function of w in range .5 to 1.5**"
   ]
  },
  {
   "cell_type": "code",
   "execution_count": 63,
   "metadata": {},
   "outputs": [
    {
     "name": "stdout",
     "output_type": "stream",
     "text": [
      "Labour = [0.39989183]\n",
      "Utility = 0.17158177405087482\n",
      "Consumption= [1.2399351]\n"
     ]
    }
   ],
   "source": [
    "steps = 100\n",
    "w = np.linspace(0.5, 1.5, steps)\n",
    "\n",
    "def u(l=res.x, w):\n",
    "   \"\"\"The utility function: Utility increases monotonocally with larger consumption. The utility decreases in labor, however the disutility of labor depends on the labor elasticity.\n",
    "   Args: c: consumption, l: labor, eps: Frisch elasticity of labor supply.\n",
    "   Returns: Float\"\"\"\n",
    "    return math.log(tr(w,l)) - v * (l ** (1 + 1/eps))/(1 + 1/eps)\n",
    "\n"
   ]
  },
  {
   "cell_type": "markdown",
   "metadata": {},
   "source": [
    "**3. Total tax revenue given by:**"
   ]
  },
  {
   "cell_type": "code",
   "execution_count": null,
   "metadata": {},
   "outputs": [],
   "source": []
  },
  {
   "cell_type": "markdown",
   "metadata": {},
   "source": [
    "**4. Tax revenue with $\\epsilon=.1$**"
   ]
  },
  {
   "cell_type": "code",
   "execution_count": null,
   "metadata": {},
   "outputs": [],
   "source": []
  },
  {
   "cell_type": "markdown",
   "metadata": {},
   "source": [
    "**5. $$\\tau_0, \\tau_1 \\land \\kappa$$ which maximizes the tax revenue**"
   ]
  },
  {
   "cell_type": "code",
   "execution_count": null,
   "metadata": {},
   "outputs": [],
   "source": []
  }
 ],
 "metadata": {
  "kernelspec": {
   "display_name": "Python 3",
   "language": "python",
   "name": "python3"
  },
  "language_info": {
   "codemirror_mode": {
    "name": "ipython",
    "version": 3
   },
   "file_extension": ".py",
   "mimetype": "text/x-python",
   "name": "python",
   "nbconvert_exporter": "python",
   "pygments_lexer": "ipython3",
   "version": "3.7.4"
  }
 },
 "nbformat": 4,
 "nbformat_minor": 4
}
