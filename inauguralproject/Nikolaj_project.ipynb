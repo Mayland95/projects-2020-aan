{
 "cells": [
  {
   "cell_type": "markdown",
   "metadata": {},
   "source": [
    "# Inaugural Project"
   ]
  },
  {
   "cell_type": "markdown",
   "metadata": {},
   "source": [
    "> **Note the following:** \n",
    "> 1. This is an example of how to structure your inaugural project.\n",
    "> 1. Remember the general advice on structuring and commenting your code from [lecture 5](https://numeconcopenhagen.netlify.com/lectures/week05/).\n",
    "> 1. Remember this [guide](https://numeconcopenhagen.netlify.com/guides/markdown/) on markdown and (a bit of) latex.\n",
    "> 1. Turn on automatic numbering by pressing <kbd>Ctrl</kbd>+<kbd>B</kbd> and click on the small icon on top of the table of contents with numbers in it.\n",
    "> 1. The inauguralproject.py file includes a function which could be used multiple times in this notebook."
   ]
  },
  {
   "cell_type": "markdown",
   "metadata": {},
   "source": [
    "Imports:"
   ]
  },
  {
   "cell_type": "code",
   "execution_count": 5,
   "metadata": {},
   "outputs": [],
   "source": [
    "from scipy import optimize\n",
    "import numpy as np\n",
    "import matplotlib as plt"
   ]
  },
  {
   "cell_type": "markdown",
   "metadata": {
    "toc-hr-collapsed": true
   },
   "source": [
    "# Question 1"
   ]
  },
  {
   "cell_type": "markdown",
   "metadata": {},
   "source": [
    "In this problem we aim to find the optimal labor supply and consumption. \n",
    "\n",
    "The following utility function and budget constraint are given.\n",
    "\n",
    "In the utility function we are using that $c^* = x$ in optimum, such that we can write the budget constraint instead of 'c'."
   ]
  },
  {
   "cell_type": "code",
   "execution_count": 21,
   "metadata": {},
   "outputs": [],
   "source": [
    "# Initial parameter values\n",
    "m = 1 \n",
    "v = 10\n",
    "eps = .3 \n",
    "t0 = .4 \n",
    "t1 = .1 \n",
    "k = .4"
   ]
  },
  {
   "cell_type": "code",
   "execution_count": 22,
   "metadata": {},
   "outputs": [],
   "source": [
    "# Utility function\n",
    "def u(l, w, m = 1, v = 10, eps = .3, t0 = .4, t1 = .1, k = .4):\n",
    "    \"\"\"\n",
    "    The utility function: Utility increases monotonocally with larger consumption. \n",
    "    The utility decreases in labor, however the disutility of labor depends on the labor elasticity.\n",
    "    Args: c: consumption, l: labor, eps: Frisch elasticity of labor supply, v: scales the disutility of labor.\n",
    "    Returns: Float\n",
    "    \"\"\"\n",
    "    return np.log(tr(w, l)) - v * (l ** (1 + 1/eps))/(1 + 1/eps)\n",
    "\n",
    "# Constraint function\n",
    "def tr(l, w, m = 1, v = 10, eps = .3, t0 = .4, t1 = .1, k = .4):\n",
    "    \"\"\"\n",
    "    Constraint function: In maximum the consumer will use all ressources on consumption, therefore c = tr(w,l).\n",
    "    m: cash-on-hand, w: wage rate, t0: standard labor income tax, \n",
    "    t1: top bracket labor income tax, k: cut-off for the top labor income bracket.\n",
    "    Returns: Float\n",
    "    \"\"\"\n",
    "    return m + w * l - (t0 * w*l + t1 * max([w * l - k, 0]))"
   ]
  },
  {
   "cell_type": "markdown",
   "metadata": {},
   "source": [
    "To calculate the optimal labor supply we use the optimize.minimze function from the scipy package. "
   ]
  },
  {
   "cell_type": "code",
   "execution_count": 23,
   "metadata": {},
   "outputs": [],
   "source": [
    "# Bounds for the variable l\n",
    "bounds = [(0, 1)]\n",
    "\n",
    "# Call optimizer\n",
    "initial_guess = 1  # some guess, should be feasible\n",
    "res = optimize.minimize(lambda l: -u(l, w=1), initial_guess,method='SLSQP', bounds=bounds)"
   ]
  },
  {
   "cell_type": "markdown",
   "metadata": {},
   "source": [
    "The solution yields the following labor supply, consumption and utility."
   ]
  },
  {
   "cell_type": "code",
   "execution_count": 24,
   "metadata": {},
   "outputs": [
    {
     "name": "stdout",
     "output_type": "stream",
     "text": "Labour = 0.40\nConsumption= 1.24\nUtility = 0.17\n"
    }
   ],
   "source": [
    "# Print results\n",
    "print('Labour = ' + f'{float(res.x):.2f}')\n",
    "print(\"Consumption= \" + f'{float(tr(l=res.x, w=1)):.2f}')\n",
    "print(\"Utility = \" + f'{-1*res.fun:.2f}')"
   ]
  },
  {
   "cell_type": "markdown",
   "metadata": {},
   "source": [
    "# Question 2"
   ]
  },
  {
   "cell_type": "markdown",
   "metadata": {},
   "source": [
    "ADD ANSWER."
   ]
  },
  {
   "cell_type": "code",
   "execution_count": 25,
   "metadata": {},
   "outputs": [],
   "source": [
    "# write code here"
   ]
  },
  {
   "cell_type": "markdown",
   "metadata": {},
   "source": [
    "# Question 3"
   ]
  },
  {
   "cell_type": "markdown",
   "metadata": {},
   "source": [
    "To calculate the total tax revenue, we are looping the values of $\\omega_i$ pulled from a random uniform distribution $N = 10.000$ times.\n",
    "\n",
    "In the for-loop we are optimizing $l_i^*$ and appending the tax revenue for 'i' to the total tax revenue."
   ]
  },
  {
   "cell_type": "code",
   "execution_count": 26,
   "metadata": {},
   "outputs": [],
   "source": [
    "# Set sample size\n",
    "N = 10000\n",
    "\n",
    "# Initial value of T\n",
    "T = 0\n",
    "\n",
    "# Appending T from each tax payer to the total, using a for loop\n",
    "for w in range(N):\n",
    "    w = np.random.uniform(.5, 1.5) # Random nr. from uniform dist.\n",
    "    res = optimize.minimize(lambda l: -u(l,w), initial_guess,\n",
    "    method='SLSQP', bounds=bounds) # Optimization for 'i'\n",
    "    T += (t0 * w * (res.x) + t1 * max([w * (res.x) - k, 0])) # tax-revenue from tax payer 'i'"
   ]
  },
  {
   "cell_type": "markdown",
   "metadata": {},
   "source": [
    "Yielding that"
   ]
  },
  {
   "cell_type": "code",
   "execution_count": 27,
   "metadata": {},
   "outputs": [
    {
     "name": "stdout",
     "output_type": "stream",
     "text": "T = 1620.18\n"
    }
   ],
   "source": [
    "# Print result\n",
    "print('T = ' + f'{float(T):.2f}')"
   ]
  },
  {
   "cell_type": "markdown",
   "metadata": {},
   "source": [
    "# Question 4"
   ]
  },
  {
   "cell_type": "markdown",
   "metadata": {},
   "source": [
    "By changing the value of $\\epsilon = 0.1$, we get that the new tax revenue is"
   ]
  },
  {
   "cell_type": "code",
   "execution_count": 28,
   "metadata": {},
   "outputs": [],
   "source": [
    "# Initial value of the new T (T2)\n",
    "T2 = 0\n",
    "\n",
    "# Appending T from each tax payer to the total, using a for loop\n",
    "for w in range(N):\n",
    "    # Add the value of eps = .1 as a local value\n",
    "    w = np.random.uniform(.5, 1.5) # Random nr. from uniform dist.\n",
    "    res = optimize.minimize(lambda l: -u(l,w, eps=.1), initial_guess, \n",
    "    method='SLSQP', bounds=bounds) # Optimization for 'i'\n",
    "    T2 += (t0 * w * (res.x) + t1 * max([w * (res.x) - k, 0])) # tax-revenue from tax payer 'i'"
   ]
  },
  {
   "cell_type": "markdown",
   "metadata": {},
   "source": [
    "Yielding that"
   ]
  },
  {
   "cell_type": "code",
   "execution_count": 29,
   "metadata": {},
   "outputs": [
    {
     "name": "stdout",
     "output_type": "stream",
     "text": "T = 3197.70\n"
    }
   ],
   "source": [
    "# Print result\n",
    "print('T = ' + f'{float(T2):.2f}')"
   ]
  },
  {
   "cell_type": "markdown",
   "metadata": {},
   "source": [
    "# Question 5"
   ]
  },
  {
   "cell_type": "markdown",
   "metadata": {},
   "source": [
    "ADD ANSWER."
   ]
  },
  {
   "cell_type": "code",
   "execution_count": 6,
   "metadata": {},
   "outputs": [],
   "source": [
    "# code"
   ]
  },
  {
   "cell_type": "markdown",
   "metadata": {},
   "source": [
    "# Conclusion"
   ]
  },
  {
   "cell_type": "markdown",
   "metadata": {},
   "source": [
    "ADD CONCISE CONLUSION."
   ]
  }
 ],
 "metadata": {
  "kernelspec": {
   "display_name": "Python 3",
   "language": "python",
   "name": "python3"
  },
  "language_info": {
   "codemirror_mode": {
    "name": "ipython",
    "version": 3
   },
   "file_extension": ".py",
   "mimetype": "text/x-python",
   "name": "python",
   "nbconvert_exporter": "python",
   "pygments_lexer": "ipython3",
   "version": "3.7.4-final"
  },
  "toc-autonumbering": true
 },
 "nbformat": 4,
 "nbformat_minor": 4
}