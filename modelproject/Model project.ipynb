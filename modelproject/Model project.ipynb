{
 "cells": [
  {
   "cell_type": "markdown",
   "metadata": {
    "colab_type": "text",
    "id": "pl4uFw0XPnTX"
   },
   "source": [
    "## Model project"
   ]
  },
  {
   "cell_type": "markdown",
   "metadata": {
    "colab_type": "text",
    "id": "Nf42eUv3PnTe"
   },
   "source": [
    "Importing libaries"
   ]
  },
  {
   "cell_type": "code",
   "execution_count": 1,
   "metadata": {
    "colab": {},
    "colab_type": "code",
    "id": "eVzEdvbIPnTh"
   },
   "outputs": [],
   "source": [
    "from scipy import optimize\n",
    "import matplotlib.pyplot as plt\n",
    "import numpy as np\n",
    "import matplotlib\n",
    "%matplotlib inline\n",
    "import matplotlib.pyplot as plt # baseline modul\n",
    "from mpl_toolkits.mplot3d import Axes3D # for 3d figures\n",
    "plt.style.use('seaborn-whitegrid') # whitegrid nice with 3d"
   ]
  },
  {
   "cell_type": "markdown",
   "metadata": {},
   "source": [
    "## Maximizing profit"
   ]
  },
  {
   "cell_type": "markdown",
   "metadata": {},
   "source": [
    "We're considering the following profit maximization problem:\n",
    "\n",
    "$$ \\max_{x_1,x_2}  \\pi(x_1,x_2) = \\max_{x_1,x_2} p f(x_1,x_2) - w x_1 - r x_2$$ <br />    $$s.t.\\:\\: f = \\beta x_1^\\alpha x_2^{1-\\alpha}$$\n",
    "\n",
    "Wage, rate and price are given by w, r, and p. Before optimizing, we insert the constraint function into the profit function, such that we optimize the following w.r.t. the inputs labor and capital:\n",
    "\n",
    "$$ \\max_{x_1,x_2}  \\pi(x_1,x_2) = \\max_{x_1,x_2} p \\beta x_1^\\alpha x_2^{1-\\alpha} - w x_1 - r x_2 $$\n",
    "\n",
    "We define the parameters as constants, then we move on to define the profit function."
   ]
  },
  {
   "cell_type": "code",
   "execution_count": 136,
   "metadata": {},
   "outputs": [],
   "source": [
    "# parameters:\n",
    "b = 1 #beta\n",
    "w = 1 #wage\n",
    "r = 1 #rate\n",
    "p = 2 #unit price\n",
    "alpha = 0.50 #preference parameter\n",
    "\n",
    "def profit_func(x1,x2,alpha=.5):\n",
    "    \"\"\"\n",
    "    Profit function: Increases in price, capital and labor. \n",
    "    Decreases in wages and rates.\n",
    "    \n",
    "    Args: x1: labor, x2: capital.\n",
    "    \n",
    "    Returns: Float\n",
    "    \"\"\"\n",
    "    return p*b*x1**alpha*x2**(1-alpha)-w*x1-r*x2"
   ]
  },
  {
   "cell_type": "markdown",
   "metadata": {},
   "source": [
    "We're plotting the function to visualize the its response to the inputs."
   ]
  },
  {
   "cell_type": "code",
   "execution_count": null,
   "metadata": {},
   "outputs": [],
   "source": []
  },
  {
   "cell_type": "code",
   "execution_count": 138,
   "metadata": {},
   "outputs": [],
   "source": [
    "# function for printing the solution\n",
    "def print_solution1(x1,x2,profit_func,w,r):\n",
    "    print(\"In optimum, we obtain the following:\")\n",
    "    print(f'Labor = {x1:.2f}')\n",
    "    print(f'Capital = {x2:.2f}')\n",
    "    print(f'Cost = wx1+rx2 = {x1*w+x2*r:.2f}')\n",
    "    print(f'Profit = TR-TC = {profit_func(x1,x2,alpha):.2f}')"
   ]
  },
  {
   "cell_type": "code",
   "execution_count": 143,
   "metadata": {},
   "outputs": [
    {
     "name": "stdout",
     "output_type": "stream",
     "text": [
      "In optimum, we obtain the following:\n",
      "Labor = 10.00\n",
      "Capital = 10.00\n",
      "Cost = wx1+rx2 = 20.00\n",
      "Profit = TR-TC = 0.00\n"
     ]
    }
   ],
   "source": [
    "# a. Profit function to maximize\n",
    "def value_of_choice(x,alpha,w,r):\n",
    "    # note: x is a vector\n",
    "    x1 = x[0]\n",
    "    x2 = x[1]\n",
    "    return -profit_func(x1,x2,alpha)\n",
    "\n",
    "# b. call solver\n",
    "initial_guess = [10,10]\n",
    "sol_case2 = optimize.minimize(\n",
    "    value_of_choice,initial_guess,args=(alpha,w,r))\n",
    "\n",
    "# d. unpack solution\n",
    "x1 = sol_case2.x[0]\n",
    "x2 = sol_case2.x[1]\n",
    "print_solution1(x1,x2,profit_func, w, r)"
   ]
  }
 ],
 "metadata": {
  "colab": {
   "collapsed_sections": [],
   "name": "Model project.ipynb",
   "provenance": []
  },
  "kernelspec": {
   "display_name": "Python 3",
   "language": "python",
   "name": "python3"
  },
  "language_info": {
   "codemirror_mode": {
    "name": "ipython",
    "version": 3
   },
   "file_extension": ".py",
   "mimetype": "text/x-python",
   "name": "python",
   "nbconvert_exporter": "python",
   "pygments_lexer": "ipython3",
   "version": "3.7.4"
  }
 },
 "nbformat": 4,
 "nbformat_minor": 4
}
